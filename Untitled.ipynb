{
 "cells": [
  {
   "cell_type": "code",
   "execution_count": 18,
   "id": "80524fdf",
   "metadata": {},
   "outputs": [],
   "source": [
    "import pandas as pd\n",
    "import numpy as np\n",
    "from sklearn import preprocessing\n",
    "from sklearn.model_selection import train_test_split\n",
    "from sklearn.model_selection import cross_validate\n",
    "from sklearn.preprocessing import StandardScaler\n",
    "from sklearn.preprocessing import OneHotEncoder\n",
    "\n",
    "import tensorflow as tf\n",
    "from tensorflow import keras\n",
    "from tensorflow.keras import layers"
   ]
  },
  {
   "cell_type": "code",
   "execution_count": 6,
   "id": "0874038c",
   "metadata": {},
   "outputs": [],
   "source": [
    "df = pd.read_csv('Bank_Customers.csv')"
   ]
  },
  {
   "cell_type": "code",
   "execution_count": 7,
   "id": "02e6bd06",
   "metadata": {},
   "outputs": [],
   "source": [
    "df = df.drop(labels=['Surname','CustomerId', 'RowNumber' ], axis=1)"
   ]
  },
  {
   "cell_type": "code",
   "execution_count": 8,
   "id": "d33f0e27",
   "metadata": {},
   "outputs": [],
   "source": [
    "label_encoder= preprocessing.LabelEncoder()\n",
    "df['Gender']= label_encoder.fit_transform(df['Gender'])\n",
    "df['Geography']= label_encoder.fit_transform(df['Geography'])"
   ]
  },
  {
   "cell_type": "code",
   "execution_count": 10,
   "id": "549f3338",
   "metadata": {},
   "outputs": [],
   "source": [
    "X = df.drop(labels='Exited', axis=1)\n",
    "y = df['Exited']\n",
    "X_train, X_test, y_train, y_test = train_test_split(X, y, random_state=0, test_size = .20)"
   ]
  },
  {
   "cell_type": "code",
   "execution_count": 11,
   "id": "6d32a102",
   "metadata": {},
   "outputs": [],
   "source": [
    "sc=StandardScaler()\n",
    "X_train=sc.fit_transform(X_train)\n",
    "X_test=sc.fit_transform(X_test)"
   ]
  },
  {
   "cell_type": "code",
   "execution_count": 13,
   "id": "3ca9efee",
   "metadata": {},
   "outputs": [],
   "source": [
    "ann = tf.keras.models.Sequential()\n",
    "ann.add(tf.keras.layers.Dense(units =6 , activation = \"relu\"))\n",
    "ann.add(tf.keras.layers.Dense(units =6 , activation = \"relu\"))\n",
    "ann.add(tf.keras.layers.Dense(units =1 , activation = \"sigmoid\"))"
   ]
  },
  {
   "cell_type": "code",
   "execution_count": 14,
   "id": "2250ce38",
   "metadata": {},
   "outputs": [],
   "source": [
    "ann.compile(optimizer = 'adam', loss = 'binary_crossentropy', metrics = ['accuracy'])"
   ]
  },
  {
   "cell_type": "code",
   "execution_count": 15,
   "id": "83a30ca2",
   "metadata": {},
   "outputs": [
    {
     "name": "stdout",
     "output_type": "stream",
     "text": [
      "Epoch 1/50\n",
      "250/250 [==============================] - 4s 4ms/step - loss: 0.5876 - accuracy: 0.7287\n",
      "Epoch 2/50\n",
      "250/250 [==============================] - 1s 4ms/step - loss: 0.4882 - accuracy: 0.7970\n",
      "Epoch 3/50\n",
      "250/250 [==============================] - 1s 4ms/step - loss: 0.4633 - accuracy: 0.8001\n",
      "Epoch 4/50\n",
      "250/250 [==============================] - 1s 5ms/step - loss: 0.4504 - accuracy: 0.8009\n",
      "Epoch 5/50\n",
      "250/250 [==============================] - 1s 4ms/step - loss: 0.4427 - accuracy: 0.8039\n",
      "Epoch 6/50\n",
      "250/250 [==============================] - 1s 4ms/step - loss: 0.4369 - accuracy: 0.8070\n",
      "Epoch 7/50\n",
      "250/250 [==============================] - 1s 4ms/step - loss: 0.4312 - accuracy: 0.8089\n",
      "Epoch 8/50\n",
      "250/250 [==============================] - 1s 4ms/step - loss: 0.4274 - accuracy: 0.8136\n",
      "Epoch 9/50\n",
      "250/250 [==============================] - 1s 4ms/step - loss: 0.4231 - accuracy: 0.8176\n",
      "Epoch 10/50\n",
      "250/250 [==============================] - 1s 4ms/step - loss: 0.4187 - accuracy: 0.8216\n",
      "Epoch 11/50\n",
      "250/250 [==============================] - 1s 5ms/step - loss: 0.4144 - accuracy: 0.8231\n",
      "Epoch 12/50\n",
      "250/250 [==============================] - 1s 4ms/step - loss: 0.4106 - accuracy: 0.8236\n",
      "Epoch 13/50\n",
      "250/250 [==============================] - 1s 5ms/step - loss: 0.4072 - accuracy: 0.8248\n",
      "Epoch 14/50\n",
      "250/250 [==============================] - 1s 5ms/step - loss: 0.4045 - accuracy: 0.8248\n",
      "Epoch 15/50\n",
      "250/250 [==============================] - 1s 4ms/step - loss: 0.4013 - accuracy: 0.8267\n",
      "Epoch 16/50\n",
      "250/250 [==============================] - 1s 3ms/step - loss: 0.3984 - accuracy: 0.8322\n",
      "Epoch 17/50\n",
      "250/250 [==============================] - 1s 4ms/step - loss: 0.3953 - accuracy: 0.8331\n",
      "Epoch 18/50\n",
      "250/250 [==============================] - 1s 4ms/step - loss: 0.3927 - accuracy: 0.8341\n",
      "Epoch 19/50\n",
      "250/250 [==============================] - 1s 4ms/step - loss: 0.3896 - accuracy: 0.8340\n",
      "Epoch 20/50\n",
      "250/250 [==============================] - 1s 4ms/step - loss: 0.3870 - accuracy: 0.8363\n",
      "Epoch 21/50\n",
      "250/250 [==============================] - 1s 4ms/step - loss: 0.3843 - accuracy: 0.8375\n",
      "Epoch 22/50\n",
      "250/250 [==============================] - 1s 4ms/step - loss: 0.3825 - accuracy: 0.8396\n",
      "Epoch 23/50\n",
      "250/250 [==============================] - 1s 4ms/step - loss: 0.3807 - accuracy: 0.8391\n",
      "Epoch 24/50\n",
      "250/250 [==============================] - 1s 4ms/step - loss: 0.3778 - accuracy: 0.8404\n",
      "Epoch 25/50\n",
      "250/250 [==============================] - 1s 4ms/step - loss: 0.3760 - accuracy: 0.8419\n",
      "Epoch 26/50\n",
      "250/250 [==============================] - 1s 4ms/step - loss: 0.3747 - accuracy: 0.8431\n",
      "Epoch 27/50\n",
      "250/250 [==============================] - 1s 4ms/step - loss: 0.3727 - accuracy: 0.8420\n",
      "Epoch 28/50\n",
      "250/250 [==============================] - 1s 4ms/step - loss: 0.3716 - accuracy: 0.8429\n",
      "Epoch 29/50\n",
      "250/250 [==============================] - 1s 4ms/step - loss: 0.3702 - accuracy: 0.8451\n",
      "Epoch 30/50\n",
      "250/250 [==============================] - 1s 4ms/step - loss: 0.3690 - accuracy: 0.8462\n",
      "Epoch 31/50\n",
      "250/250 [==============================] - 1s 4ms/step - loss: 0.3674 - accuracy: 0.8471\n",
      "Epoch 32/50\n",
      "250/250 [==============================] - 1s 5ms/step - loss: 0.3670 - accuracy: 0.8472\n",
      "Epoch 33/50\n",
      "250/250 [==============================] - 1s 4ms/step - loss: 0.3657 - accuracy: 0.8490\n",
      "Epoch 34/50\n",
      "250/250 [==============================] - 1s 4ms/step - loss: 0.3652 - accuracy: 0.8479\n",
      "Epoch 35/50\n",
      "250/250 [==============================] - 1s 4ms/step - loss: 0.3644 - accuracy: 0.8486\n",
      "Epoch 36/50\n",
      "250/250 [==============================] - 1s 5ms/step - loss: 0.3639 - accuracy: 0.8500\n",
      "Epoch 37/50\n",
      "250/250 [==============================] - 1s 4ms/step - loss: 0.3627 - accuracy: 0.8486\n",
      "Epoch 38/50\n",
      "250/250 [==============================] - 1s 4ms/step - loss: 0.3623 - accuracy: 0.8506\n",
      "Epoch 39/50\n",
      "250/250 [==============================] - 1s 4ms/step - loss: 0.3619 - accuracy: 0.8508\n",
      "Epoch 40/50\n",
      "250/250 [==============================] - 1s 4ms/step - loss: 0.3615 - accuracy: 0.8499\n",
      "Epoch 41/50\n",
      "250/250 [==============================] - 1s 4ms/step - loss: 0.3605 - accuracy: 0.8505\n",
      "Epoch 42/50\n",
      "250/250 [==============================] - 1s 4ms/step - loss: 0.3606 - accuracy: 0.8515\n",
      "Epoch 43/50\n",
      "250/250 [==============================] - 1s 4ms/step - loss: 0.3600 - accuracy: 0.8519\n",
      "Epoch 44/50\n",
      "250/250 [==============================] - 1s 4ms/step - loss: 0.3597 - accuracy: 0.8519\n",
      "Epoch 45/50\n",
      "250/250 [==============================] - 1s 4ms/step - loss: 0.3595 - accuracy: 0.8524\n",
      "Epoch 46/50\n",
      "250/250 [==============================] - 1s 4ms/step - loss: 0.3589 - accuracy: 0.8534\n",
      "Epoch 47/50\n",
      "250/250 [==============================] - 1s 4ms/step - loss: 0.3586 - accuracy: 0.8519\n",
      "Epoch 48/50\n",
      "250/250 [==============================] - 1s 5ms/step - loss: 0.3584 - accuracy: 0.8515\n",
      "Epoch 49/50\n",
      "250/250 [==============================] - 1s 5ms/step - loss: 0.3581 - accuracy: 0.8522\n",
      "Epoch 50/50\n",
      "250/250 [==============================] - 1s 4ms/step - loss: 0.3574 - accuracy: 0.8519\n"
     ]
    },
    {
     "data": {
      "text/plain": [
       "<keras.callbacks.History at 0x22d84ea01c0>"
      ]
     },
     "execution_count": 15,
     "metadata": {},
     "output_type": "execute_result"
    }
   ],
   "source": [
    "ann.fit(X_train,y_train, batch_size =32, epochs = 50 )"
   ]
  },
  {
   "cell_type": "code",
   "execution_count": 24,
   "id": "f39e03ea",
   "metadata": {},
   "outputs": [
    {
     "name": "stdout",
     "output_type": "stream",
     "text": [
      "1/1 [==============================] - 0s 120ms/step\n"
     ]
    },
    {
     "data": {
      "text/plain": [
       "array([[0.8821924]], dtype=float32)"
      ]
     },
     "execution_count": 24,
     "metadata": {},
     "output_type": "execute_result"
    }
   ],
   "source": [
    "prediction  = ann.predict([[600, 0, 1, 40, 3, 60000, 2, 1, 1, 50000]])\n",
    "prediction"
   ]
  },
  {
   "cell_type": "code",
   "execution_count": null,
   "id": "a852a852",
   "metadata": {},
   "outputs": [],
   "source": []
  }
 ],
 "metadata": {
  "kernelspec": {
   "display_name": "Python 3 (ipykernel)",
   "language": "python",
   "name": "python3"
  },
  "language_info": {
   "codemirror_mode": {
    "name": "ipython",
    "version": 3
   },
   "file_extension": ".py",
   "mimetype": "text/x-python",
   "name": "python",
   "nbconvert_exporter": "python",
   "pygments_lexer": "ipython3",
   "version": "3.9.13"
  }
 },
 "nbformat": 4,
 "nbformat_minor": 5
}
